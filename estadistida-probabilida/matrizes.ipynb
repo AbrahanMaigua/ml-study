{
 "cells": [
  {
   "cell_type": "code",
   "execution_count": 1,
   "id": "d60f3b4d",
   "metadata": {},
   "outputs": [],
   "source": [
    "import numpy as np"
   ]
  },
  {
   "cell_type": "markdown",
   "id": "8724c3e7",
   "metadata": {},
   "source": [
    "(Matrix). With m, n ∈ N a real-valued (m, n) matrix A is\n",
    "an m·n-tuple of elements aij , i = 1, . . . , m, j = 1, . . . , n, which is ordered\n",
    "according to a rectangular scheme consisting of m rows and n columns:"
   ]
  },
  {
   "cell_type": "code",
   "execution_count": 2,
   "id": "b69b8e7d",
   "metadata": {},
   "outputs": [
    {
     "data": {
      "text/plain": [
       "array([[0, 3],\n",
       "       [0, 5]])"
      ]
     },
     "execution_count": 2,
     "metadata": {},
     "output_type": "execute_result"
    }
   ],
   "source": [
    "# 3 x 2\n",
    "A = np.array(\n",
    "    [\n",
    "        [1, 2, 3],\n",
    "        [3, 2, 1]\n",
    "    ]\n",
    ")\n",
    "\n",
    "# 2 x 3\n",
    "B = np.array(\n",
    "    [\n",
    "        [0, 2],\n",
    "        [0, -1],\n",
    "        [0, 1],\n",
    "\n",
    "\n",
    "    ]\n",
    ")\n",
    "\n",
    "AB = np.dot(A, B)\n",
    "AB"
   ]
  },
  {
   "cell_type": "code",
   "execution_count": 4,
   "id": "4e86a4f3",
   "metadata": {},
   "outputs": [
    {
     "data": {
      "text/plain": [
       "array([[ 6,  4,  2],\n",
       "       [-3, -2, -1],\n",
       "       [ 3,  2,  1]])"
      ]
     },
     "execution_count": 4,
     "metadata": {},
     "output_type": "execute_result"
    }
   ],
   "source": [
    "BA = np.dot(B, A)\n",
    "BA\n"
   ]
  },
  {
   "cell_type": "markdown",
   "id": "0b8e26fd",
   "metadata": {},
   "source": [
    "## 🧠 **Matriz Quadrada, Inversa e Transposta**\n",
    "\n",
    "$$\n",
    "A = \\begin{bmatrix}\n",
    "2 & 1 \\\\\n",
    "4 & 3\n",
    "\\end{bmatrix} \\quad \\text{(2 linhas × 2 colunas → quadrada)}\n",
    "$$\n",
    "\n",
    "### 🔷 **1. O que é uma matriz quadrada?**\n",
    "\n",
    "Uma matriz é **quadrada** quando tem o **mesmo número de linhas e colunas**.\n",
    "Exemplo:\n",
    "\n",
    "---\n",
    "\n",
    "### 🔁 **2. Transposta de uma Matriz**\n",
    "\n",
    "A **transposta** de uma matriz $A$, escrita como $A^T$, é obtida **trocando as linhas pelas colunas**.\n",
    "\n",
    "Exemplo:\n",
    "\n",
    "$$\n",
    "A = \\begin{bmatrix}\n",
    "1 & 2 \\\\\n",
    "3 & 4\n",
    "\\end{bmatrix}\n",
    "\\quad \\Rightarrow \\quad\n",
    "A^T = \\begin{bmatrix}\n",
    "1 & 3 \\\\\n",
    "2 & 4\n",
    "\\end{bmatrix}\n",
    "$$\n",
    "\n",
    "---\n"
   ]
  },
  {
   "cell_type": "code",
   "execution_count": 6,
   "id": "79da1e66",
   "metadata": {},
   "outputs": [
    {
     "data": {
      "text/plain": [
       "(array([[1, 3],\n",
       "        [2, 2],\n",
       "        [3, 1]]),\n",
       " array([[1, 2, 3],\n",
       "        [3, 2, 1]]))"
      ]
     },
     "execution_count": 6,
     "metadata": {},
     "output_type": "execute_result"
    }
   ],
   "source": [
    "A.T, A"
   ]
  },
  {
   "cell_type": "markdown",
   "id": "526ddd67",
   "metadata": {},
   "source": [
    "\n",
    "### 🔄 **3. Inversa de uma Matriz**\n",
    "\n",
    "Se $A$ é uma **matriz quadrada**, sua **inversa** $A^{-1}$ é outra matriz tal que:\n",
    "\n",
    "$$\n",
    "A \\cdot A^{-1} = I \\quad \\text{e} \\quad A^{-1} \\cdot A = I\n",
    "$$\n",
    "\n",
    "Onde $I$ é a **matriz identidade** (como o número 1 na multiplicação comum).\n",
    "\n",
    "Exemplo da identidade $2×2$:\n",
    "\n",
    "$$\n",
    "I = \\begin{bmatrix}\n",
    "1 & 0 \\\\\n",
    "0 & 1\n",
    "\\end{bmatrix}\n",
    "$$\n",
    "\n",
    "### ✅ Se essa inversa existe:\n",
    "\n",
    "* Dizemos que a matriz é **invertível**, **regular**, ou **não singular**.\n",
    "\n",
    "### ❌ Se **não** existe:\n",
    "\n",
    "* Dizemos que a matriz é **não invertível**, **singular**, ou **irregular**.\n",
    "\n",
    "> A inversa **só existe** para algumas matrizes. Nem toda matriz quadrada tem inversa.\n",
    "\n",
    "---\n",
    "\n",
    "Para:\n",
    "\n",
    "$$\n",
    "A = \\begin{bmatrix}\n",
    "a & b \\\\\n",
    "c & d\n",
    "\\end{bmatrix}\n",
    "$$\n",
    "\n",
    "Se $ad - bc \\ne 0$, então:\n",
    "\n",
    "$$\n",
    "A^{-1} = \\frac{1}{ad - bc}\n",
    "\\begin{bmatrix}\n",
    "d & -b \\\\\n",
    "-c & a\n",
    "\\end{bmatrix}\n",
    "$$\n",
    "\n",
    "---\n",
    "\n",
    "### 📌 Resumo dos termos:\n",
    "\n",
    "| Termo               | Significado                         |\n",
    "| ------------------- | ----------------------------------- |\n",
    "| **Inversa (A⁻¹)**   | Matriz que \"desfaz\" a multiplicação |\n",
    "| **Transposta (Aᵀ)** | Linhas viram colunas e vice-versa   |\n",
    "| **Singular**        | Não possui inversa                  |\n",
    "| **Nonsingular**     | Possui inversa                      |\n",
    "| **Regular**         | Mesmo que nonsingular               |\n",
    "| **Não invertível**  | Não tem inversa                     |\n",
    "| **Invertível**      | Tem inversa                         |\n"
   ]
  },
  {
   "cell_type": "code",
   "execution_count": null,
   "id": "0fd84864",
   "metadata": {},
   "outputs": [
    {
     "data": {
      "text/plain": [
       "np.float64(0.0)"
      ]
     },
     "execution_count": 8,
     "metadata": {},
     "output_type": "execute_result"
    }
   ],
   "source": [
    "det = np.linalg.det(AB)\n",
    "print(det)\n",
    "\n",
    "if det != 0:\n",
    "    print(np.linalg.inv(AB))\n",
    "\n",
    "else:\n",
    "    print('A matriz AB e singular (nao invertivel).')"
   ]
  },
  {
   "cell_type": "markdown",
   "id": "dd648409",
   "metadata": {},
   "source": []
  }
 ],
 "metadata": {
  "kernelspec": {
   "display_name": ".venv",
   "language": "python",
   "name": "python3"
  },
  "language_info": {
   "codemirror_mode": {
    "name": "ipython",
    "version": 3
   },
   "file_extension": ".py",
   "mimetype": "text/x-python",
   "name": "python",
   "nbconvert_exporter": "python",
   "pygments_lexer": "ipython3",
   "version": "3.13.3"
  }
 },
 "nbformat": 4,
 "nbformat_minor": 5
}
